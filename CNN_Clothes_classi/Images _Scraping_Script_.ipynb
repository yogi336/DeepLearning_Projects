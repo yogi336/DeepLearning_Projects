{
 "cells": [
  {
   "cell_type": "code",
   "execution_count": 1,
   "metadata": {},
   "outputs": [
    {
     "name": "stdout",
     "output_type": "stream",
     "text": [
      "<selenium.webdriver.remote.webelement.WebElement (session=\"252890b529cfc40c416620654d5c244d\", element=\"0.9108684007386738-1\")>\n"
     ]
    }
   ],
   "source": [
    "from selenium import webdriver \n",
    "import os\n",
    "import shutil\n",
    "import requests\n",
    "\n",
    "## Create instance of chrome driver \n",
    "driver=webdriver.Chrome(executable_path='D:\\Desktop4\\DataFiles\\Web_scaping\\chromedriver')\n",
    "my_page=driver.get(\"https://www.flipkart.com/search?q=jeans&sid=clo%2Cvua%2Ck58%2Ci51&as=on&as-show=on&otracker=AS_QueryStore_OrganicAutoSuggest_1_3_na_na_na&otracker1=AS_QueryStore_OrganicAutoSuggest_1_3_na_na_na&as-pos=1&as-type=RECENT&suggestionId=jeans%7CMen%27s+Jeans&requestId=40b2473c-32e2-4961-a028-08b757521282&as-searchtext=jea&page=2\")\n",
    "\n",
    "## Create a directory to save all scarpped images files \n",
    "def make_directory(dirname):\n",
    "    current_path=os.getcwd()\n",
    "    path= os.path.join(current_path, dirname)\n",
    "    if not os.path.exists(path):\n",
    "        os.makedirs(path)        \n",
    "make_directory(\"flipcart_Jeans\")\n",
    "\n",
    "## Scraping Image URL Exceptions \n",
    "images=driver.find_elements_by_xpath(\"//img[@class='_3togXc']\")\n",
    "print(images[0])"
   ]
  },
  {
   "cell_type": "code",
   "execution_count": 2,
   "metadata": {},
   "outputs": [
    {
     "name": "stdout",
     "output_type": "stream",
     "text": [
      "https://rukminim1.flixcart.com/image/330/396/k0plpjk0/jean/r/g/f/32-44741-0190-denizen-original-imafkdxerxjy7txq.jpeg?q=50\n",
      "https://rukminim1.flixcart.com/image/330/396/k55n0y80/jean/z/d/m/36-pjdnjskp529318-peter-england-original-imafhbb3hh6xqyus.jpeg?q=50\n",
      "https://rukminim1.flixcart.com/image/330/396/k7usyvk0/jean/q/v/r/32-fmjno1097-flying-machine-original-imafpzjxxzw2y5zf.jpeg?q=50\n",
      "https://rukminim1.flixcart.com/image/330/396/k05ljm80/jean/x/n/a/32-18298-0697-levi-s-original-imafjvfzmdzgdmzv.jpeg?q=50\n",
      "https://rukminim1.flixcart.com/image/330/396/kb89ea80/jean/i/s/7/40-kjb-1249-dnft-blh-killer-original-imafsmg7qtu3jhq4.jpeg?q=50\n",
      "https://rukminim1.flixcart.com/image/330/396/k3yrte80/jean/n/f/t/32-kjb-1193-dnft-gry-killer-original-imafmzybhq6rwssf.jpeg?q=50\n",
      "https://rukminim1.flixcart.com/image/330/396/k0e66q80/jean/f/q/m/32-l36178248smu-lee-original-imafk7y4zmaayatq.jpeg?q=50\n",
      "https://rukminim1.flixcart.com/image/330/396/k3xcdjk0/jean/h/2/n/32-kjb-1218-dnft-brw-killer-original-imafmwacgj5thz8w.jpeg?q=50\n",
      "https://rukminim1.flixcart.com/image/330/396/j7rxpjk0/jean/g/h/p/30-eps-grey-urbano-fashion-original-imaexsz3tufyntgg.jpeg?q=50\n",
      "https://rukminim1.flixcart.com/image/330/396/ji3g70w0/jean/b/f/n/32-18298-0493-levi-s-original-imaf5r9hg8zgqbdn.jpeg?q=50\n",
      "https://rukminim1.flixcart.com/image/330/396/jsuoivk0/jean/3/z/b/32-4jk-cjog-ridge-vogue-original-imafe8qzwpsghybv.jpeg?q=50\n",
      "https://rukminim1.flixcart.com/image/330/396/k0e66q80/jean/y/s/4/32-l36164248smu-lee-original-imafk7y4fdh2jgsp.jpeg?q=50\n",
      "https://rukminim1.flixcart.com/image/330/396/k7ksvww0/jean/y/m/x/32-fmjno1151-flying-machine-original-imafpnxf6bzyysyf.jpeg?q=50\n",
      "https://rukminim1.flixcart.com/image/330/396/juyev0w0/jean/t/m/z/32-18298-0538-levi-s-original-imaffyh73hujvbkf.jpeg?q=50\n",
      "https://rukminim1.flixcart.com/image/330/396/k4x2du80/jean/d/8/2/32-bss20d006-billion-original-imafnpvdgnrshsfm.jpeg?q=50\n",
      "https://rukminim1.flixcart.com/image/330/396/k7xnukw0/jean/k/z/f/32-kjb-1246-slnkft-bl-killer-original-imafq2fy5rfx2aja.jpeg?q=50\n",
      "https://rukminim1.flixcart.com/image/330/396/k5vcya80/jean/w/s/g/36-pm202740g074-pepe-jeans-original-imafzd2h6egpwssw.jpeg?q=50\n",
      "https://rukminim1.flixcart.com/image/330/396/k4fx3m80/jean/p/g/4/30-supeps-grey-supernova-inc-original-imafncqyzjqecahk.jpeg?q=50\n",
      "https://rukminim1.flixcart.com/image/330/396/k251k7k0/jean/s/a/b/32-l36200248smu-lee-original-imafhjfcgwgsdzxv.jpeg?q=50\n",
      "https://rukminim1.flixcart.com/image/330/396/k3q76a80/jean/f/j/a/32-18298-0585-levi-s-original-imafmrgsss3ftzgk.jpeg?q=50\n",
      "https://rukminim1.flixcart.com/image/330/396/k7p37gw0/jean/6/y/s/32-fmjno1145-flying-machine-original-imafpukxbxem7qqx.jpeg?q=50\n",
      "https://rukminim1.flixcart.com/image/330/396/jq5iky80/jean/v/v/w/28-ss19jn-s2l-m-pln-bu-campus-sutra-original-imafc7dx2hugrj4x.jpeg?q=50\n",
      "https://rukminim1.flixcart.com/image/330/396/k5msb680/jean/6/9/j/32-mss20jn003a-metronaut-original-imafzyznpgrw7kwy.jpeg?q=50\n",
      "https://rukminim1.flixcart.com/image/330/396/k66sh3k0/jean/w/v/h/32-36087-0269-levi-s-original-imafzzw5hyrh3rym.jpeg?q=50\n",
      "https://rukminim1.flixcart.com/image/330/396/k7ksvww0/jean/f/h/v/32-kjb-1240-dnft-bl-killer-original-imafpsc49zsubvw6.jpeg?q=50\n",
      "https://rukminim1.flixcart.com/image/330/396/kbs9k7k0/jean/j/6/n/34-dtss19jn014-ducati-original-imaft27g4g2hphvk.jpeg?q=50\n",
      "https://rukminim1.flixcart.com/image/330/396/k70spzk0/jean/r/t/6/30-hljn000685-highlander-original-imafpchxtxu4qbfr.jpeg?q=50\n",
      "https://rukminim1.flixcart.com/image/330/396/k3hmj680/jean/f/n/n/28-lj3381-lzard-original-imafmm52tbx6nthc.jpeg?q=50\n",
      "https://rukminim1.flixcart.com/image/330/396/k1118cw0/jean/b/c/c/32-kjb-1201-dnft-bl-killer-original-imafkzvtf2xuwkmp.jpeg?q=50\n",
      "https://rukminim1.flixcart.com/image/330/396/k0r15e80/jean/t/q/b/32-36087-0174-levi-s-original-imafkh74zug2rhf8.jpeg?q=50\n",
      "https://rukminim1.flixcart.com/image/330/396/k1118cw0/jean/5/e/t/32-maw19jn152-metronaut-original-imafkmufykbzma24.jpeg?q=50\n",
      "https://rukminim1.flixcart.com/image/330/396/k6l2vm80/jean/a/a/z/32-kjb-1179-slnkft-indgbl-killer-original-imafngv6fznh2zkc.jpeg?q=50\n",
      "https://rukminim1.flixcart.com/image/330/396/k251k7k0/jean/a/x/h/32-l36199248smu-lee-original-imafhjf7cxjrghfw.jpeg?q=50\n",
      "https://rukminim1.flixcart.com/image/330/396/k3q76a80/jean/z/h/k/32-18298-0627-levi-s-original-imafmrgsyhryyv6a.jpeg?q=50\n",
      "https://rukminim1.flixcart.com/image/330/396/k0plpjk0/jean/2/g/x/32-81629-0000-denizen-original-imafketdkjerdypq.jpeg?q=50\n",
      "https://rukminim1.flixcart.com/image/330/396/k7ksvww0/jean/f/g/z/32-fmjno1078-flying-machine-original-imafpz5h5xymkpec.jpeg?q=50\n",
      "https://rukminim1.flixcart.com/image/330/396/k7usyvk0/jean/d/h/7/32-fmjno1136-flying-machine-original-imafpzy58wjpzvxn.jpeg?q=50\n",
      "https://rukminim1.flixcart.com/image/330/396/k0463rk0/jean/m/z/w/32-ecskn-01ai-12-spykar-original-imafjz592yqqgyva.jpeg?q=50\n",
      "https://rukminim1.flixcart.com/image/330/396/k7jdg280/jean/j/z/x/32-fmjno0420-flying-machine-original-imafpz6cnjh3pjua.jpeg?q=50\n",
      "https://rukminim1.flixcart.com/image/330/396/k3q76a80/jean/y/g/y/32-18298-0513-levi-s-original-imafmrgsn4gkghh4.jpeg?q=50\n",
      "Downloading 1 of 40 images\n",
      "Downloading 2 of 40 images\n",
      "Downloading 3 of 40 images\n",
      "Downloading 4 of 40 images\n",
      "Downloading 5 of 40 images\n",
      "Downloading 6 of 40 images\n",
      "Downloading 7 of 40 images\n",
      "Downloading 8 of 40 images\n",
      "Downloading 9 of 40 images\n",
      "Downloading 10 of 40 images\n",
      "Downloading 11 of 40 images\n",
      "Downloading 12 of 40 images\n",
      "Downloading 13 of 40 images\n",
      "Downloading 14 of 40 images\n",
      "Downloading 15 of 40 images\n",
      "Downloading 16 of 40 images\n",
      "Downloading 17 of 40 images\n",
      "Downloading 18 of 40 images\n",
      "Downloading 19 of 40 images\n",
      "Downloading 20 of 40 images\n",
      "Downloading 21 of 40 images\n",
      "Downloading 22 of 40 images\n",
      "Downloading 23 of 40 images\n",
      "Downloading 24 of 40 images\n",
      "Downloading 25 of 40 images\n",
      "Downloading 26 of 40 images\n",
      "Downloading 27 of 40 images\n",
      "Downloading 28 of 40 images\n",
      "Downloading 29 of 40 images\n",
      "Downloading 30 of 40 images\n",
      "Downloading 31 of 40 images\n",
      "Downloading 32 of 40 images\n",
      "Downloading 33 of 40 images\n",
      "Downloading 34 of 40 images\n",
      "Downloading 35 of 40 images\n",
      "Downloading 36 of 40 images\n",
      "Downloading 37 of 40 images\n",
      "Downloading 38 of 40 images\n",
      "Downloading 39 of 40 images\n",
      "Downloading 40 of 40 images\n"
     ]
    }
   ],
   "source": [
    "## Get all the images URL's \n",
    "urls=[]\n",
    "for image in images:\n",
    "    source=image.get_attribute('src')\n",
    "    urls.append(source)\n",
    "    print(source)\n",
    "len(urls)\n",
    "\n",
    "## Downloading all images form URL's\n",
    "for index, link in enumerate(urls):\n",
    "    print(\"Downloading {0} of {1} images\".format(index+1,len(urls)))\n",
    "    response=requests.get(link)\n",
    "    with open('flipcart_Jeans/img_{0}.jpg'.format(index),\"wb\") as file:\n",
    "         file.write(response.content)"
   ]
  },
  {
   "cell_type": "code",
   "execution_count": 3,
   "metadata": {},
   "outputs": [],
   "source": [
    "## rename the all images in local directory \n",
    "import glob\n",
    "import os\n",
    "path = r'C:\\Users\\user\\flipcart_Jeans'\n",
    "i = 41\n",
    "for filename in os.listdir(path):\n",
    "  os.rename(os.path.join(path,filename), os.path.join(path,'jeans'+str(i)+'.jpg'))\n",
    "  i = i +1 "
   ]
  },
  {
   "cell_type": "code",
   "execution_count": null,
   "metadata": {},
   "outputs": [],
   "source": []
  }
 ],
 "metadata": {
  "kernelspec": {
   "display_name": "Python 3",
   "language": "python",
   "name": "python3"
  },
  "language_info": {
   "codemirror_mode": {
    "name": "ipython",
    "version": 3
   },
   "file_extension": ".py",
   "mimetype": "text/x-python",
   "name": "python",
   "nbconvert_exporter": "python",
   "pygments_lexer": "ipython3",
   "version": "3.6.5"
  }
 },
 "nbformat": 4,
 "nbformat_minor": 2
}
