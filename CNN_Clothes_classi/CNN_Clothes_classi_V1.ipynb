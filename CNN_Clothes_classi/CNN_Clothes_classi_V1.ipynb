{
  "nbformat": 4,
  "nbformat_minor": 0,
  "metadata": {
    "colab": {
      "name": "CNN_Clothes_classi_V1.ipynb",
      "provenance": [],
      "collapsed_sections": []
    },
    "kernelspec": {
      "name": "python3",
      "display_name": "Python 3"
    },
    "accelerator": "GPU"
  },
  "cells": [
    {
      "cell_type": "markdown",
      "metadata": {
        "id": "D2Y97oxKg3eH",
        "colab_type": "text"
      },
      "source": [
        "# Yogendra Verma"
      ]
    },
    {
      "cell_type": "code",
      "metadata": {
        "id": "vOmyplAvdRLs",
        "colab_type": "code",
        "colab": {}
      },
      "source": [
        "## CNN_Clothes_classi_V1.ipynb"
      ],
      "execution_count": null,
      "outputs": []
    },
    {
      "cell_type": "code",
      "metadata": {
        "id": "YF5VL2DiNDAO",
        "colab_type": "code",
        "colab": {
          "base_uri": "https://localhost:8080/",
          "height": 34
        },
        "outputId": "9fa3dbf9-8164-478f-d2da-8a4c41271252"
      },
      "source": [
        "import sys\n",
        "from matplotlib import pyplot\n",
        "from keras.utils import to_categorical\n",
        "from keras.models import Sequential\n",
        "from keras.layers import Conv2D\n",
        "from keras.layers import MaxPooling2D\n",
        "from keras.layers import Dense\n",
        "from keras.layers import Flatten\n",
        "from keras.optimizers import SGD\n",
        "from keras.preprocessing.image import ImageDataGenerator\n",
        "from keras.layers import Dropout"
      ],
      "execution_count": 1,
      "outputs": [
        {
          "output_type": "stream",
          "text": [
            "Using TensorFlow backend.\n"
          ],
          "name": "stderr"
        }
      ]
    },
    {
      "cell_type": "markdown",
      "metadata": {
        "id": "pGNRbm9agq65",
        "colab_type": "text"
      },
      "source": [
        "**Define CNN Model**"
      ]
    },
    {
      "cell_type": "code",
      "metadata": {
        "id": "zoF3yjJkV-Hk",
        "colab_type": "code",
        "colab": {}
      },
      "source": [
        "def define_model():\n",
        "  model = Sequential()\n",
        "  model.add(Conv2D(32, (3, 3), activation='relu', kernel_initializer='he_uniform', padding='same', input_shape=(200, 200, 3)))\n",
        "  model.add(MaxPooling2D((2, 2)))\n",
        "  #model.add(Dropout(0.2))\n",
        "  model.add(Conv2D(64, (3, 3), activation='relu', kernel_initializer='he_uniform', padding='same'))\n",
        "  model.add(MaxPooling2D((2, 2)))\n",
        "  #model.add(Dropout(0.2))\n",
        "  model.add(Flatten())\n",
        "  model.add(Dense(128, activation='relu', kernel_initializer='he_uniform'))\n",
        "  #model.add(Dropout(0.4))\n",
        "  model.add(Dense(1, activation='sigmoid'))\n",
        "\n",
        "\t# compile model\n",
        "  #opt = SGD(lr=0.001, momentum=0.9)\n",
        "  model.compile(optimizer='adam', loss='binary_crossentropy', metrics=['accuracy'])\n",
        "  return model\n",
        "\n",
        "# plot diagnostic learning curves\n",
        "def summarize_diagnostics(history):\n",
        "\t# plot loss\n",
        "\tpyplot.subplot(211)\n",
        "\tpyplot.title('Cross Entropy Loss')\n",
        "\tpyplot.plot(history.history['loss'], color='blue', label='train')\n",
        "\tpyplot.plot(history.history['val_loss'], color='orange', label='test')\n",
        "\t# plot accuracy\n",
        "\tpyplot.subplot(212)\n",
        "\tpyplot.title('Classification Accuracy')\n",
        "\tpyplot.plot(history.history['accuracy'], color='blue', label='train')\n",
        "\tpyplot.plot(history.history['val_accuracy'], color='orange', label='test')\n",
        "\t# save plot to file\n",
        "\tfilename = sys.argv[0].split('/')[-1]\n",
        "\tpyplot.savefig(filename + '_plot.png')\n",
        "\tpyplot.close()"
      ],
      "execution_count": 2,
      "outputs": []
    },
    {
      "cell_type": "markdown",
      "metadata": {
        "id": "asan_1Wwghfc",
        "colab_type": "text"
      },
      "source": [
        "**Prepare Clothes Image Dataset and train the Model**"
      ]
    },
    {
      "cell_type": "code",
      "metadata": {
        "id": "anZTsaW8WaR7",
        "colab_type": "code",
        "colab": {
          "base_uri": "https://localhost:8080/",
          "height": 140
        },
        "outputId": "b9fe52ef-cadd-4d90-ef0c-f711b39a131c"
      },
      "source": [
        "# call define model function\n",
        "model = define_model()\n",
        "\n",
        "## create data Augument generators\n",
        "train_datagen = ImageDataGenerator(rescale=1.0/255.0,\n",
        "width_shift_range=0.1, height_shift_range=0.1, horizontal_flip=True)\n",
        "test_datagen = ImageDataGenerator(rescale=1.0/255.0)\n",
        "datagen = ImageDataGenerator(rescale=1.0/255.0)\n",
        "\n",
        "# prepare iterators\n",
        "train_it = train_datagen.flow_from_directory('/content/drive/My Drive/CNN/fk_clothes_data/train_clothes',\n",
        "class_mode='binary', batch_size=70, target_size=(200, 200))\n",
        "test_it = test_datagen.flow_from_directory('/content/drive/My Drive/CNN/fk_clothes_data/test_clothes',\n",
        "class_mode='binary', batch_size=70, target_size=(200, 200))\n",
        "\n",
        "# fit model\n",
        "history = model.fit_generator(train_it, steps_per_epoch=len(train_it),\n",
        "validation_data=test_it, validation_steps=len(test_it), epochs=20, verbose=0)"
      ],
      "execution_count": 3,
      "outputs": [
        {
          "output_type": "stream",
          "text": [
            "Found 160 images belonging to 2 classes.\n",
            "Found 40 images belonging to 2 classes.\n"
          ],
          "name": "stdout"
        },
        {
          "output_type": "stream",
          "text": [
            "/usr/local/lib/python3.6/dist-packages/keras/utils/data_utils.py:616: UserWarning: The input 1 could not be retrieved. It could be because a worker has died.\n",
            "  UserWarning)\n",
            "/usr/local/lib/python3.6/dist-packages/keras/utils/data_utils.py:616: UserWarning: The input 0 could not be retrieved. It could be because a worker has died.\n",
            "  UserWarning)\n"
          ],
          "name": "stderr"
        }
      ]
    },
    {
      "cell_type": "code",
      "metadata": {
        "id": "6J0XErWCWpp9",
        "colab_type": "code",
        "colab": {
          "base_uri": "https://localhost:8080/",
          "height": 34
        },
        "outputId": "d9a874fc-0fe4-4ed6-faea-438990c54e53"
      },
      "source": [
        "# evaluate model\n",
        "_, acc = model.evaluate_generator(test_it, steps=len(test_it), verbose=0)\n",
        "print('> %.3f' % (acc * 100.0))\n",
        "# learning curves\n",
        "summarize_diagnostics(history)"
      ],
      "execution_count": 4,
      "outputs": [
        {
          "output_type": "stream",
          "text": [
            "> 67.500\n"
          ],
          "name": "stdout"
        }
      ]
    },
    {
      "cell_type": "markdown",
      "metadata": {
        "id": "7ON1VfKxgGiK",
        "colab_type": "text"
      },
      "source": [
        "**Load Image for Validation**"
      ]
    },
    {
      "cell_type": "code",
      "metadata": {
        "id": "XrtWC4l2W0GJ",
        "colab_type": "code",
        "colab": {}
      },
      "source": [
        "import keras\n",
        "from keras.models import load_model\n",
        "from keras.preprocessing import image\n",
        "import numpy as np\n",
        "image = image.load_img('/content/drive/My Drive/CNN/fk_clothes_data/validate_clothes/tr1.jpeg', target_size=(200, 200))\n",
        "input_arr = keras.preprocessing.image.img_to_array(image)\n",
        "#x = np.expand_dims(input_arr, axis=0)   ## Convert single image to a batch.\n",
        "input_arr = np.array([input_arr])        ## Convert single image to a batch.\n",
        "#predictions = model.predict(input_arr)"
      ],
      "execution_count": 5,
      "outputs": []
    },
    {
      "cell_type": "markdown",
      "metadata": {
        "id": "-olTT5k-gW9K",
        "colab_type": "text"
      },
      "source": [
        "**Prediction**"
      ]
    },
    {
      "cell_type": "code",
      "metadata": {
        "id": "ru-KQUWQX_rA",
        "colab_type": "code",
        "colab": {}
      },
      "source": [
        "from keras.preprocessing.image import load_img\n",
        "from keras.preprocessing.image import img_to_array\n",
        "# load model\n",
        "#model = load_model('my_flower_classi_model')\n",
        "#predictions_classes = model.predict_classes(input_arr)\n",
        "\n",
        "predictions_classes = model.predict_classes(input_arr)\n",
        "\n",
        "def predict_img():\n",
        "  if predictions_classes ==0:\n",
        "    print(\"Class {} means it is a 'Jeans Image'\".format(predictions_classes))\n",
        "  if predictions_classes ==1:\n",
        "    print(\"Class {} means it is a 'Trouser Image'\".format(predictions_classes))"
      ],
      "execution_count": 6,
      "outputs": []
    },
    {
      "cell_type": "code",
      "metadata": {
        "id": "mysYGPRYYNW2",
        "colab_type": "code",
        "colab": {
          "base_uri": "https://localhost:8080/",
          "height": 217
        },
        "outputId": "bcda918c-46d8-48b3-c41e-eecad212993b"
      },
      "source": [
        "image"
      ],
      "execution_count": 7,
      "outputs": [
        {
          "output_type": "execute_result",
          "data": {
            "image/png": "[encoded data removed]",
            "text/plain": [
              "<PIL.Image.Image image mode=RGB size=200x200 at 0x7F19D0051C18>"
            ]
          },
          "metadata": {
            "tags": []
          },
          "execution_count": 7
        }
      ]
    },
    {
      "cell_type": "code",
      "metadata": {
        "id": "gsGI9J0tYQcn",
        "colab_type": "code",
        "colab": {
          "base_uri": "https://localhost:8080/",
          "height": 34
        },
        "outputId": "8cb54f08-4c0b-45bb-b8e2-64c461efeec8"
      },
      "source": [
        "predict_img()"
      ],
      "execution_count": 8,
      "outputs": [
        {
          "output_type": "stream",
          "text": [
            "Class [[1]] means it is a 'Trouser Image'\n"
          ],
          "name": "stdout"
        }
      ]
    },
    {
      "cell_type": "code",
      "metadata": {
        "id": "gTcSAF3lfqMI",
        "colab_type": "code",
        "colab": {}
      },
      "source": [
        ""
      ],
      "execution_count": null,
      "outputs": []
    }
  ]
}