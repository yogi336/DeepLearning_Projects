{
  "nbformat": 4,
  "nbformat_minor": 0,
  "metadata": {
    "colab": {
      "name": "CNN_Clothes_Classi_Augu_Optimizers_V2.ipynb",
      "provenance": [],
      "collapsed_sections": []
    },
    "kernelspec": {
      "name": "python3",
      "display_name": "Python 3"
    },
    "accelerator": "GPU"
  },
  "cells": [
    {
      "cell_type": "code",
      "metadata": {
        "id": "Z80dgyROjW3L",
        "colab_type": "code",
        "colab": {}
      },
      "source": [
        "## CNN_Clothes_Classi_Augu_Optimizers_V2.ipynb"
      ],
      "execution_count": 101,
      "outputs": []
    },
    {
      "cell_type": "markdown",
      "metadata": {
        "id": "xtw90CR6BnnY",
        "colab_type": "text"
      },
      "source": [
        "# Yogendra Verma\n",
        "Assignment-4(V2)\n"
      ]
    },
    {
      "cell_type": "markdown",
      "metadata": {
        "id": "aRispTxpRPbc",
        "colab_type": "text"
      },
      "source": [
        "Here i have use all kind of callbacks together like: \n",
        "\n",
        "1) EarlyStopping \n",
        "\n",
        "2) ReduceLROnPlateau \n",
        "\n",
        "3) Checkpints"
      ]
    },
    {
      "cell_type": "code",
      "metadata": {
        "id": "YF5VL2DiNDAO",
        "colab_type": "code",
        "colab": {}
      },
      "source": [
        "import keras\n",
        "import sys\n",
        "from matplotlib import pyplot\n",
        "from keras.utils import to_categorical\n",
        "from keras.models import Sequential\n",
        "from keras.layers import Conv2D\n",
        "from keras.layers import MaxPooling2D\n",
        "from keras.layers import Dense\n",
        "from keras.layers import Flatten\n",
        "from keras.optimizers import SGD\n",
        "from keras.preprocessing.image import ImageDataGenerator\n",
        "from keras.layers import Dropout\n",
        "from keras.callbacks import EarlyStopping ,ModelCheckpoint\n",
        "#import datetime\n",
        "from datetime import datetime"
      ],
      "execution_count": 102,
      "outputs": []
    },
    {
      "cell_type": "markdown",
      "metadata": {
        "id": "pGNRbm9agq65",
        "colab_type": "text"
      },
      "source": [
        "**Define CNN Model**"
      ]
    },
    {
      "cell_type": "code",
      "metadata": {
        "id": "uSeCg3Vxxn5C",
        "colab_type": "code",
        "colab": {}
      },
      "source": [
        "img_rows = 64\n",
        "img_cols = 64\n",
        "batch_size = 70\n",
        "epochs=20"
      ],
      "execution_count": 103,
      "outputs": []
    },
    {
      "cell_type": "code",
      "metadata": {
        "id": "zoF3yjJkV-Hk",
        "colab_type": "code",
        "colab": {}
      },
      "source": [
        "def define_model():\n",
        "  model = Sequential()\n",
        "  model.add(Conv2D(32, (3, 3), activation='relu', kernel_initializer='he_uniform', padding='same', input_shape=(img_rows, img_cols, 3)))\n",
        "  model.add(MaxPooling2D((2, 2)))\n",
        "  #model.add(Dropout(0.2))\n",
        "  model.add(Conv2D(64, (3, 3), activation='relu', kernel_initializer='he_uniform', padding='same'))\n",
        "  model.add(MaxPooling2D((2, 2)))\n",
        "  #model.add(Dropout(0.2))\n",
        "  model.add(Flatten())\n",
        "  model.add(Dense(128, activation='relu', kernel_initializer='he_uniform'))\n",
        "  #model.add(Dropout(0.4))\n",
        "  model.add(Dense(1, activation='sigmoid'))\n",
        "\n",
        "\t# compile model\n",
        "  #opt = SGD(lr=0.001, momentum=0.9)\n",
        "  opt = keras.optimizers.Adadelta()\n",
        "  #opt = keras.optimizers.RMSprop(lr=0.001)\n",
        "  #opt = keras.optimizers.Nadam(lr=0.001)\n",
        "  #opt = keras.optimizers.Adam(learning_rate=0.001)\n",
        "  #opt = keras.optimizers.SGD(momentum=0.01, nesterov=True)\n",
        "  model.compile(optimizer=opt, loss='binary_crossentropy', metrics=['accuracy'])\n",
        "  return model\n"
      ],
      "execution_count": 104,
      "outputs": []
    },
    {
      "cell_type": "code",
      "metadata": {
        "id": "yEY4IgES0MpL",
        "colab_type": "code",
        "colab": {}
      },
      "source": [
        "# plot diagnostic learning curves\n",
        "def summarize_diagnostics(history):\n",
        "\t# plot loss\n",
        "\tpyplot.subplot(211)\n",
        "\tpyplot.title('Cross Entropy Loss')\n",
        "\tpyplot.plot(history.history['loss'], color='blue', label='train')\n",
        "\tpyplot.plot(history.history['val_loss'], color='orange', label='test')\n",
        "\t# plot accuracy\n",
        "\tpyplot.subplot(212)\n",
        "\tpyplot.title('Classification Accuracy')\n",
        "\tpyplot.plot(history.history['accuracy'], color='blue', label='train')\n",
        "\tpyplot.plot(history.history['val_accuracy'], color='orange', label='test')\n",
        "\t# save plot to file\n",
        "\tfilename = sys.argv[0].split('/')[-1]\n",
        "\tpyplot.savefig(filename + '_plot.png')\n",
        "\tpyplot.close()"
      ],
      "execution_count": 105,
      "outputs": []
    },
    {
      "cell_type": "code",
      "metadata": {
        "id": "8POh05io0ig9",
        "colab_type": "code",
        "colab": {
          "base_uri": "https://localhost:8080/",
          "height": 411
        },
        "outputId": "740d8741-5988-4596-9729-6014df61a9e2"
      },
      "source": [
        "\n",
        "model = define_model()\n",
        "print(model.summary())"
      ],
      "execution_count": 106,
      "outputs": [
        {
          "output_type": "stream",
          "text": [
            "Model: \"sequential_11\"\n",
            "_________________________________________________________________\n",
            "Layer (type)                 Output Shape              Param #   \n",
            "=================================================================\n",
            "conv2d_21 (Conv2D)           (None, 64, 64, 32)        896       \n",
            "_________________________________________________________________\n",
            "max_pooling2d_21 (MaxPooling (None, 32, 32, 32)        0         \n",
            "_________________________________________________________________\n",
            "conv2d_22 (Conv2D)           (None, 32, 32, 64)        18496     \n",
            "_________________________________________________________________\n",
            "max_pooling2d_22 (MaxPooling (None, 16, 16, 64)        0         \n",
            "_________________________________________________________________\n",
            "flatten_11 (Flatten)         (None, 16384)             0         \n",
            "_________________________________________________________________\n",
            "dense_21 (Dense)             (None, 128)               2097280   \n",
            "_________________________________________________________________\n",
            "dense_22 (Dense)             (None, 1)                 129       \n",
            "=================================================================\n",
            "Total params: 2,116,801\n",
            "Trainable params: 2,116,801\n",
            "Non-trainable params: 0\n",
            "_________________________________________________________________\n",
            "None\n"
          ],
          "name": "stdout"
        }
      ]
    },
    {
      "cell_type": "code",
      "metadata": {
        "id": "U6MV33Y5mlRU",
        "colab_type": "code",
        "colab": {
          "base_uri": "https://localhost:8080/",
          "height": 865
        },
        "outputId": "811e69f5-aa81-4bd8-f84f-b36658c14ed4"
      },
      "source": [
        "from keras.utils.vis_utils import plot_model\n",
        "plot_model(model,show_shapes=True,show_layer_names=True)"
      ],
      "execution_count": 107,
      "outputs": [
        {
          "output_type": "execute_result",
          "data": {
            "image/png": "[encoded data removed]",
            "text/plain": [
              "<IPython.core.display.Image object>"
            ]
          },
          "metadata": {
            "tags": []
          },
          "execution_count": 107
        }
      ]
    },
    {
      "cell_type": "markdown",
      "metadata": {
        "id": "asan_1Wwghfc",
        "colab_type": "text"
      },
      "source": [
        "**Prepare Clothes Image Dataset with Data Augumentation Technique**"
      ]
    },
    {
      "cell_type": "code",
      "metadata": {
        "id": "anZTsaW8WaR7",
        "colab_type": "code",
        "colab": {
          "base_uri": "https://localhost:8080/",
          "height": 51
        },
        "outputId": "e88d559e-5c11-4beb-99ec-a8c3d9f9d8f4"
      },
      "source": [
        "# call define model function\n",
        "model = define_model()\n",
        "datagen = ImageDataGenerator(rescale=1.0/255.0)\n",
        "\n",
        "# prepare iterators\n",
        "train_it = datagen.flow_from_directory('/content/drive/My Drive/CNN/fk_clothes_data/augu_data_train',\n",
        "class_mode='binary', batch_size=batch_size, target_size=(img_rows, img_cols),shuffle=True)\n",
        "\n",
        "test_it = datagen.flow_from_directory('/content/drive/My Drive/CNN/fk_clothes_data/test_clothes',\n",
        "class_mode='binary', batch_size=batch_size, target_size=(img_rows, img_cols),shuffle=False)\n"
      ],
      "execution_count": 108,
      "outputs": [
        {
          "output_type": "stream",
          "text": [
            "Found 1262 images belonging to 2 classes.\n",
            "Found 40 images belonging to 2 classes.\n"
          ],
          "name": "stdout"
        }
      ]
    },
    {
      "cell_type": "markdown",
      "metadata": {
        "id": "_L4T3zyqDnjc",
        "colab_type": "text"
      },
      "source": [
        "**Implement EarlyStopping & Checkpoint**"
      ]
    },
    {
      "cell_type": "code",
      "metadata": {
        "id": "fsuCBhXmEOWJ",
        "colab_type": "code",
        "colab": {}
      },
      "source": [
        "checkpoint = ModelCheckpoint('/content/drive/My Drive/CNN/fk_clothes_data/model_checkpoint_Adadelta.h5',\n",
        "                             monitor='val_loss', \n",
        "                             verbose=1, \n",
        "                             save_best_only=True, \n",
        "                             mode='min')\n",
        "#callbacks =[checkpoint] "
      ],
      "execution_count": 109,
      "outputs": []
    },
    {
      "cell_type": "code",
      "metadata": {
        "id": "J1BI1ti6eUD1",
        "colab_type": "code",
        "colab": {}
      },
      "source": [
        "from keras.callbacks import EarlyStopping, ReduceLROnPlateau\n",
        "earlystop = EarlyStopping(monitor='val_loss', \n",
        "                          min_delta=0, \n",
        "                          patience=3, \n",
        "                          verbose=1, \n",
        "                          restore_best_weights=True)\n",
        "\n",
        "#callbacks = [earlystop,checkpoint]"
      ],
      "execution_count": 110,
      "outputs": []
    },
    {
      "cell_type": "code",
      "metadata": {
        "id": "Zi4sUfQVQNkt",
        "colab_type": "code",
        "colab": {}
      },
      "source": [
        "learning_rate_reduction = ReduceLROnPlateau(monitor='val_loss', \n",
        "                                            patience=3, \n",
        "                                            verbose=1, \n",
        "                                            factor=0.2, \n",
        "                                            min_delta=0)\n",
        "callbacks = [earlystop,checkpoint,learning_rate_reduction]"
      ],
      "execution_count": 111,
      "outputs": []
    },
    {
      "cell_type": "markdown",
      "metadata": {
        "id": "4BBOItjWsPdM",
        "colab_type": "text"
      },
      "source": [
        "**Train the Model**"
      ]
    },
    {
      "cell_type": "code",
      "metadata": {
        "id": "4eSGRJlrsJZy",
        "colab_type": "code",
        "colab": {
          "base_uri": "https://localhost:8080/",
          "height": 1000
        },
        "outputId": "e2bd751f-d19d-4b25-fc79-1508c34fa313"
      },
      "source": [
        "# fit model\n",
        "start_time = datetime.now()\n",
        "\n",
        "history = model.fit_generator(train_it, \n",
        "                              steps_per_epoch=len(train_it),\n",
        "                              validation_data=test_it, \n",
        "                              validation_steps=len(test_it), \n",
        "                              epochs=epochs, \n",
        "                              verbose=1,\n",
        "                              callbacks=callbacks)\n",
        "\n",
        "end_time = datetime.now()\n",
        "print(\"execution time = \"+ str(end_time-start_time))"
      ],
      "execution_count": 112,
      "outputs": [
        {
          "output_type": "stream",
          "text": [
            "Epoch 1/20\n",
            "19/19 [==============================] - 4s 205ms/step - loss: 1.7762 - accuracy: 0.5111 - val_loss: 0.6782 - val_accuracy: 0.6000\n",
            "\n",
            "Epoch 00001: val_loss improved from inf to 0.67819, saving model to /content/drive/My Drive/CNN/fk_clothes_data/model_checkpoint_Adadelta.h5\n",
            "Epoch 2/20\n",
            "19/19 [==============================] - 4s 189ms/step - loss: 0.6886 - accuracy: 0.5816 - val_loss: 0.6270 - val_accuracy: 0.7750\n",
            "\n",
            "Epoch 00002: val_loss improved from 0.67819 to 0.62696, saving model to /content/drive/My Drive/CNN/fk_clothes_data/model_checkpoint_Adadelta.h5\n",
            "Epoch 3/20\n",
            "19/19 [==============================] - 4s 196ms/step - loss: 0.6434 - accuracy: 0.6284 - val_loss: 0.6455 - val_accuracy: 0.5500\n",
            "\n",
            "Epoch 00003: val_loss did not improve from 0.62696\n",
            "Epoch 4/20\n",
            "19/19 [==============================] - 4s 195ms/step - loss: 0.6206 - accuracy: 0.6442 - val_loss: 0.5555 - val_accuracy: 0.7000\n",
            "\n",
            "Epoch 00004: val_loss improved from 0.62696 to 0.55552, saving model to /content/drive/My Drive/CNN/fk_clothes_data/model_checkpoint_Adadelta.h5\n",
            "Epoch 5/20\n",
            "19/19 [==============================] - 4s 193ms/step - loss: 0.5492 - accuracy: 0.7393 - val_loss: 0.5463 - val_accuracy: 0.6500\n",
            "\n",
            "Epoch 00005: val_loss improved from 0.55552 to 0.54635, saving model to /content/drive/My Drive/CNN/fk_clothes_data/model_checkpoint_Adadelta.h5\n",
            "Epoch 6/20\n",
            "19/19 [==============================] - 4s 194ms/step - loss: 0.4751 - accuracy: 0.7599 - val_loss: 0.4565 - val_accuracy: 0.7500\n",
            "\n",
            "Epoch 00006: val_loss improved from 0.54635 to 0.45646, saving model to /content/drive/My Drive/CNN/fk_clothes_data/model_checkpoint_Adadelta.h5\n",
            "Epoch 7/20\n",
            "19/19 [==============================] - 4s 192ms/step - loss: 0.4432 - accuracy: 0.8368 - val_loss: 0.3565 - val_accuracy: 0.8750\n",
            "\n",
            "Epoch 00007: val_loss improved from 0.45646 to 0.35654, saving model to /content/drive/My Drive/CNN/fk_clothes_data/model_checkpoint_Adadelta.h5\n",
            "Epoch 8/20\n",
            "19/19 [==============================] - 4s 198ms/step - loss: 0.3541 - accuracy: 0.8431 - val_loss: 0.3801 - val_accuracy: 0.8250\n",
            "\n",
            "Epoch 00008: val_loss did not improve from 0.35654\n",
            "Epoch 9/20\n",
            "19/19 [==============================] - 4s 194ms/step - loss: 0.3262 - accuracy: 0.8653 - val_loss: 0.3203 - val_accuracy: 0.9250\n",
            "\n",
            "Epoch 00009: val_loss improved from 0.35654 to 0.32028, saving model to /content/drive/My Drive/CNN/fk_clothes_data/model_checkpoint_Adadelta.h5\n",
            "Epoch 10/20\n",
            "19/19 [==============================] - 4s 193ms/step - loss: 0.2840 - accuracy: 0.8970 - val_loss: 0.2600 - val_accuracy: 0.9250\n",
            "\n",
            "Epoch 00010: val_loss improved from 0.32028 to 0.26005, saving model to /content/drive/My Drive/CNN/fk_clothes_data/model_checkpoint_Adadelta.h5\n",
            "Epoch 11/20\n",
            "19/19 [==============================] - 4s 197ms/step - loss: 0.2671 - accuracy: 0.9002 - val_loss: 0.2630 - val_accuracy: 0.9250\n",
            "\n",
            "Epoch 00011: val_loss did not improve from 0.26005\n",
            "Epoch 12/20\n",
            "19/19 [==============================] - 4s 201ms/step - loss: 0.1915 - accuracy: 0.9374 - val_loss: 0.2193 - val_accuracy: 0.9000\n",
            "\n",
            "Epoch 00012: val_loss improved from 0.26005 to 0.21926, saving model to /content/drive/My Drive/CNN/fk_clothes_data/model_checkpoint_Adadelta.h5\n",
            "Epoch 13/20\n",
            "19/19 [==============================] - 4s 196ms/step - loss: 0.1626 - accuracy: 0.9532 - val_loss: 0.2277 - val_accuracy: 0.9000\n",
            "\n",
            "Epoch 00013: val_loss did not improve from 0.21926\n",
            "Epoch 14/20\n",
            "19/19 [==============================] - 4s 196ms/step - loss: 0.3006 - accuracy: 0.9049 - val_loss: 0.4036 - val_accuracy: 0.7750\n",
            "\n",
            "Epoch 00014: val_loss did not improve from 0.21926\n",
            "Epoch 15/20\n",
            "19/19 [==============================] - 4s 199ms/step - loss: 0.1722 - accuracy: 0.9358 - val_loss: 0.2515 - val_accuracy: 0.9000\n",
            "Restoring model weights from the end of the best epoch\n",
            "\n",
            "Epoch 00015: val_loss did not improve from 0.21926\n",
            "\n",
            "Epoch 00015: ReduceLROnPlateau reducing learning rate to 0.2.\n",
            "Epoch 00015: early stopping\n",
            "execution time = 0:00:57.703611\n"
          ],
          "name": "stdout"
        }
      ]
    },
    {
      "cell_type": "code",
      "metadata": {
        "id": "6E2-ORWVQsh6",
        "colab_type": "code",
        "colab": {}
      },
      "source": [
        "#model.save_weights('/content/drive/My Drive/CNN/fk_clothes_data/model_ReduceLROnPlateau_SGD.h5')"
      ],
      "execution_count": 113,
      "outputs": []
    },
    {
      "cell_type": "code",
      "metadata": {
        "id": "6J0XErWCWpp9",
        "colab_type": "code",
        "colab": {
          "base_uri": "https://localhost:8080/",
          "height": 34
        },
        "outputId": "d402c9d0-bde5-46aa-995c-1c9dbadc7a4f"
      },
      "source": [
        "# evaluate model\n",
        "_, acc_test = model.evaluate_generator(test_it, steps=len(test_it), verbose=0)\n",
        "print('> %.3f' % (acc_test * 100.0))\n",
        "# learning curves\n",
        "summarize_diagnostics(history)"
      ],
      "execution_count": 114,
      "outputs": [
        {
          "output_type": "stream",
          "text": [
            "> 90.000\n"
          ],
          "name": "stdout"
        }
      ]
    },
    {
      "cell_type": "code",
      "metadata": {
        "id": "9XRCfSQKG5eu",
        "colab_type": "code",
        "colab": {
          "base_uri": "https://localhost:8080/",
          "height": 34
        },
        "outputId": "82587d9a-b6af-4c20-9438-bdc945c47ad1"
      },
      "source": [
        "# evaluate model\n",
        "_, acc_train = model.evaluate_generator(train_it, steps=len(train_it), verbose=0)\n",
        "print('> %.3f' % (acc_train * 100.0))\n",
        "# learning curves\n",
        "summarize_diagnostics(history)"
      ],
      "execution_count": 115,
      "outputs": [
        {
          "output_type": "stream",
          "text": [
            "> 94.929\n"
          ],
          "name": "stdout"
        }
      ]
    },
    {
      "cell_type": "code",
      "metadata": {
        "id": "RH_t-HEwAa4l",
        "colab_type": "code",
        "colab": {
          "base_uri": "https://localhost:8080/",
          "height": 562
        },
        "outputId": "6ce87d03-68e0-4d04-8814-016f33317e72"
      },
      "source": [
        "## Our training accuracy (in blue) & validation accuracy (in yellow)\n",
        "%matplotlib inline\n",
        "import matplotlib.pyplot as plt\n",
        "# Retrieve a list of accuracy results on training and validation data\n",
        "# sets for each training epoch\n",
        "acc = history.history['accuracy']\n",
        "val_acc = history.history['val_accuracy']\n",
        "\n",
        "# Retrieve a list of list results on training and validation data\n",
        "# sets for each training epoch\n",
        "loss = history.history['loss']\n",
        "val_loss = history.history['val_loss']\n",
        "\n",
        "# Get number of epochs\n",
        "epochs = range(len(acc))\n",
        "\n",
        "# Plot training and validation accuracy per epoch\n",
        "plt.plot(epochs, acc)\n",
        "plt.plot(epochs, val_acc)\n",
        "plt.title('Training and validation accuracy')\n",
        "\n",
        "plt.figure()\n",
        "\n",
        "# Plot training and validation loss per epoch\n",
        "plt.plot(epochs, loss)\n",
        "plt.plot(epochs, val_loss)\n",
        "plt.title('Training and validation loss')"
      ],
      "execution_count": 116,
      "outputs": [
        {
          "output_type": "execute_result",
          "data": {
            "text/plain": [
              "Text(0.5, 1.0, 'Training and validation loss')"
            ]
          },
          "metadata": {
            "tags": []
          },
          "execution_count": 116
        },
        {
          "output_type": "display_data",
          "data": {
            "image/png": "[encoded data removed]",
            "text/plain": [
              "<Figure size 432x288 with 1 Axes>"
            ]
          },
          "metadata": {
            "tags": [],
            "needs_background": "light"
          }
        },
        {
          "output_type": "display_data",
          "data": {
            "image/png": "[encoded data removed]",
            "text/plain": [
              "<Figure size 432x288 with 1 Axes>"
            ]
          },
          "metadata": {
            "tags": [],
            "needs_background": "light"
          }
        }
      ]
    },
    {
      "cell_type": "markdown",
      "metadata": {
        "id": "7ON1VfKxgGiK",
        "colab_type": "text"
      },
      "source": [
        "**Load Image for Validation**"
      ]
    },
    {
      "cell_type": "code",
      "metadata": {
        "id": "XrtWC4l2W0GJ",
        "colab_type": "code",
        "colab": {}
      },
      "source": [
        "import keras\n",
        "from keras.models import load_model\n",
        "from keras.preprocessing import image\n",
        "import numpy as np\n",
        "image = image.load_img('/content/drive/My Drive/CNN/fk_clothes_data/validate_clothes/tr4.jpeg', target_size=(img_rows, img_cols))\n",
        "input_arr = keras.preprocessing.image.img_to_array(image)\n",
        "#x = np.expand_dims(input_arr, axis=0)   ## Convert single image to a batch.\n",
        "input_arr = np.array([input_arr])        ## Convert single image to a batch.\n",
        "#predictions = model.predict(input_arr)"
      ],
      "execution_count": 117,
      "outputs": []
    },
    {
      "cell_type": "markdown",
      "metadata": {
        "id": "-olTT5k-gW9K",
        "colab_type": "text"
      },
      "source": [
        "**Prediction**"
      ]
    },
    {
      "cell_type": "code",
      "metadata": {
        "id": "ru-KQUWQX_rA",
        "colab_type": "code",
        "colab": {}
      },
      "source": [
        "from keras.preprocessing.image import load_img\n",
        "from keras.preprocessing.image import img_to_array\n",
        "# load model\n",
        "#model = load_model('my_flower_classi_model')\n",
        "#predictions_classes = model.predict_classes(input_arr)\n",
        "\n",
        "predictions_classes = model.predict_classes(input_arr)\n",
        "\n",
        "def predict_img():\n",
        "  if predictions_classes ==0:\n",
        "    print(\"Class {} means it is a 'Jeans Image'\".format(predictions_classes))\n",
        "  if predictions_classes ==1:\n",
        "    print(\"Class {} means it is a 'Trouser Image'\".format(predictions_classes))"
      ],
      "execution_count": 118,
      "outputs": []
    },
    {
      "cell_type": "code",
      "metadata": {
        "id": "mysYGPRYYNW2",
        "colab_type": "code",
        "colab": {
          "base_uri": "https://localhost:8080/",
          "height": 81
        },
        "outputId": "c3f3d877-8978-4be2-b28e-25e11212758d"
      },
      "source": [
        "image"
      ],
      "execution_count": 119,
      "outputs": [
        {
          "output_type": "execute_result",
          "data": {
            "image/png": "[encoded data removed]",
            "text/plain": [
              "<PIL.Image.Image image mode=RGB size=64x64 at 0x7F9D2A6EBCF8>"
            ]
          },
          "metadata": {
            "tags": []
          },
          "execution_count": 119
        }
      ]
    },
    {
      "cell_type": "code",
      "metadata": {
        "id": "gsGI9J0tYQcn",
        "colab_type": "code",
        "colab": {
          "base_uri": "https://localhost:8080/",
          "height": 34
        },
        "outputId": "681f8cf8-dc73-40aa-d575-d5e6a94d31f1"
      },
      "source": [
        "predict_img()"
      ],
      "execution_count": 120,
      "outputs": [
        {
          "output_type": "stream",
          "text": [
            "Class [[1]] means it is a 'Trouser Image'\n"
          ],
          "name": "stdout"
        }
      ]
    }
  ]
}
